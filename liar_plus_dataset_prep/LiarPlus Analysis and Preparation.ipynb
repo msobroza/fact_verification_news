{
 "cells": [
  {
   "cell_type": "markdown",
   "metadata": {},
   "source": [
    "<img src=\"https://pbs.twimg.com/profile_images/1126981606533672960/H4NiVXXg.jpg\" alt=\"drawing\" width=\"200\"/>\n"
   ]
  },
  {
   "cell_type": "markdown",
   "metadata": {},
   "source": [
    "<center>\n",
    "<h2>Data Analysis Notebook</h2>\n",
    "</center>"
   ]
  },
  {
   "cell_type": "markdown",
   "metadata": {},
   "source": [
    "This  notebook contains the analysis and preparation of the Liar Plus\n",
    "dataset, in order to be used along with the FEVER dataset for training."
   ]
  },
  {
   "cell_type": "code",
   "execution_count": 36,
   "metadata": {},
   "outputs": [],
   "source": [
    "import pandas as pd\n",
    "import os\n",
    "import matplotlib.pyplot as plt\n",
    "import seaborn as sns\n",
    "import spacy\n",
    "import tqdm"
   ]
  },
  {
   "cell_type": "markdown",
   "metadata": {},
   "source": [
    "In this dataset, the labels are:\n",
    "\n",
    "    false\n",
    "    pants_fire\n",
    "    half-true\n",
    "    mostly-true\n",
    "    barely-true\n",
    "    true\n",
    "    \n",
    "In order to align these with the FEVER dataset, these replacements were_made:\n",
    "\n",
    "    false - REFUTES\n",
    "    pants_fire - REFUTES\n",
    "    half-true - NOT ENOUGH INFO\n",
    "    mostly-true - SUPPORTS\n",
    "    barely-true - REFUTES\n",
    "    true - SUPPORTS\n",
    "    "
   ]
  },
  {
   "cell_type": "code",
   "execution_count": 58,
   "metadata": {},
   "outputs": [],
   "source": [
    "df = pd.read_csv('train2.tsv',sep='\\t',\n",
    "                         names = ['idx','id','label','text','subject',\n",
    "                        'speaker','job_speaker','state','party',\n",
    "                        'total_credit','barely_true','false','half-true',\n",
    "                        'mostly_true','pants_on_fire','evidence','context'])"
   ]
  },
  {
   "cell_type": "code",
   "execution_count": 85,
   "metadata": {},
   "outputs": [],
   "source": [
    "def data_preparation(mode):\n",
    "    \"\"\"\n",
    "    Function that takes the tsv files of the dataset, puts\n",
    "    them into the right format and then saves the data.\n",
    "    \n",
    "    Args:\n",
    "        mode (str): Either: train,val,or test.\n",
    "\n",
    "    Returns:\n",
    "        bool: The return value. True for success, False otherwise.\n",
    "    \"\"\"\n",
    "    try:\n",
    "        if os.path.isdir('preprocessed_data'):\n",
    "            pass\n",
    "        else:\n",
    "            os.mkdir('preprocessed_data')\n",
    "        df = pd.read_csv('{}2.tsv'.format(mode),sep='\\t',\n",
    "                         names = ['idx','id','label','text','subject',\n",
    "                        'speaker','job_speaker','state','party',\n",
    "                        'total_credit','barely_true','false','half-true',\n",
    "                        'mostly_true','pants_on_fire','evidence','context'])\n",
    "\n",
    "        df = df[['idx','label','text','evidence']]\n",
    "        # It is important to notice that we have recategorized\n",
    "        # the labels to match the FEVER dataset\n",
    "        df = df.replace('false','REFUTES')\n",
    "        df = df.replace('pants-fire','REFUTES')\n",
    "        df = df.replace('half-true','NOT ENOUGH INFO')\n",
    "        df = df.replace('mostly-true','SUPPORTS')\n",
    "        df = df.replace('barely-true','REFUTES')\n",
    "        df = df.replace('true','SUPPORTS')\n",
    "\n",
    "\n",
    "        df.to_pickle('./preprocessed_data/liar_plus_{}.pkl'.format(mode))\n",
    "        return True\n",
    "    except:\n",
    "        return False"
   ]
  },
  {
   "cell_type": "markdown",
   "metadata": {},
   "source": [
    "Execute this cell in order to make data preparation:"
   ]
  },
  {
   "cell_type": "code",
   "execution_count": 80,
   "metadata": {},
   "outputs": [
    {
     "data": {
      "text/plain": [
       "True"
      ]
     },
     "execution_count": 80,
     "metadata": {},
     "output_type": "execute_result"
    }
   ],
   "source": [
    "train_prep = data_preparation('train')\n",
    "\n",
    "val_prep = data_preparation('val')\n",
    "\n",
    "test_prep = data_preparation('test')\n",
    "\n",
    "if train_prep or val_prep or test_prep is not True:\n",
    "    print('verify data preparation steps')"
   ]
  },
  {
   "cell_type": "markdown",
   "metadata": {},
   "source": [
    "Now that the data is cleaned and prepared,\n",
    "we can perform some analysis:"
   ]
  },
  {
   "cell_type": "code",
   "execution_count": 23,
   "metadata": {},
   "outputs": [],
   "source": [
    "train_df = pd.read_pickle('./preprocessed_data/liar_plus_train.pkl')"
   ]
  },
  {
   "cell_type": "code",
   "execution_count": 24,
   "metadata": {},
   "outputs": [
    {
     "data": {
      "text/plain": [
       "REFUTES            4488\n",
       "SUPPORTS           3638\n",
       "NOT ENOUGH INFO    2114\n",
       "Name: label, dtype: int64"
      ]
     },
     "execution_count": 24,
     "metadata": {},
     "output_type": "execute_result"
    }
   ],
   "source": [
    "train_df.label.value_counts()"
   ]
  },
  {
   "cell_type": "markdown",
   "metadata": {},
   "source": [
    "Performing an analysis in terms of tokens:"
   ]
  },
  {
   "cell_type": "code",
   "execution_count": 34,
   "metadata": {},
   "outputs": [],
   "source": [
    "nlp_en = spacy.load('en_core_web_lg')"
   ]
  },
  {
   "cell_type": "code",
   "execution_count": 42,
   "metadata": {},
   "outputs": [
    {
     "data": {
      "application/vnd.jupyter.widget-view+json": {
       "model_id": "4305f9584c2047bd8b9f663bb539f78c",
       "version_major": 2,
       "version_minor": 0
      },
      "text/plain": [
       "HBox(children=(IntProgress(value=0, max=10240), HTML(value='')))"
      ]
     },
     "metadata": {},
     "output_type": "display_data"
    },
    {
     "name": "stdout",
     "output_type": "stream",
     "text": [
      "\n"
     ]
    }
   ],
   "source": [
    "amount_of_tokens_text = list()\n",
    "amount_of_tokens_evidence = list()\n",
    "for sentence in tqdm.tqdm_notebook(list(train_df.text.values)):\n",
    "    doc = nlp_en(sentence)\n",
    "    sent = list()\n",
    "    for w in doc:\n",
    "        sent.append(w)\n",
    "    amount_of_tokens_text.append(len(sent))"
   ]
  },
  {
   "cell_type": "code",
   "execution_count": 53,
   "metadata": {},
   "outputs": [
    {
     "data": {
      "application/vnd.jupyter.widget-view+json": {
       "model_id": "fff10466c1464e38b39fa0300e2513a5",
       "version_major": 2,
       "version_minor": 0
      },
      "text/plain": [
       "HBox(children=(IntProgress(value=0, max=10240), HTML(value='')))"
      ]
     },
     "metadata": {},
     "output_type": "display_data"
    },
    {
     "name": "stdout",
     "output_type": "stream",
     "text": [
      "\n"
     ]
    }
   ],
   "source": [
    "for sen in tqdm.tqdm_notebook(list(train_df.evidence.values)):\n",
    "    doc = nlp_en(str(sen))\n",
    "    sent = list()\n",
    "    for w in doc:\n",
    "        sent.append(w)\n",
    "    amount_of_tokens_evidence.append(len(sent))"
   ]
  },
  {
   "cell_type": "code",
   "execution_count": 54,
   "metadata": {},
   "outputs": [
    {
     "data": {
      "image/png": "[encoded data removed]",
      "text/plain": [
       "<Figure size 864x576 with 2 Axes>"
      ]
     },
     "metadata": {},
     "output_type": "display_data"
    }
   ],
   "source": [
    "plt.figure(figsize=(12,8))\n",
    "plt.subplot(3,1,1)\n",
    "plt.scatter(range(len(amount_of_tokens_text)),amount_of_tokens_text)\n",
    "plt.title('Number of tokens per sentence - claim')\n",
    "plt.subplot(3,1,3)\n",
    "plt.scatter(range(len(amount_of_tokens_evidence)),amount_of_tokens_evidence,c='green')\n",
    "plt.title('Number of tokens per sentence - evidence')\n",
    "plt.show()"
   ]
  },
  {
   "cell_type": "code",
   "execution_count": 56,
   "metadata": {},
   "outputs": [
    {
     "data": {
      "image/png": "[encoded data removed]",
      "text/plain": [
       "<Figure size 720x432 with 1 Axes>"
      ]
     },
     "metadata": {},
     "output_type": "display_data"
    }
   ],
   "source": [
    "plt.figure(figsize=(10,6))\n",
    "sns.distplot(amount_of_tokens_text,kde = False)\n",
    "sns.distplot(amount_of_tokens_evidence,kde = False,color='green')\n",
    "plt.title('Histogram')\n",
    "plt.xlabel('number of tokens')\n",
    "plt.ylabel('number of sentences with amount of tokens')\n",
    "plt.legend(['claim','evidence'])\n",
    "plt.show()"
   ]
  }
 ],
 "metadata": {
  "kernelspec": {
   "display_name": "Python 3",
   "language": "python",
   "name": "python3"
  },
  "language_info": {
   "codemirror_mode": {
    "name": "ipython",
    "version": 3
   },
   "file_extension": ".py",
   "mimetype": "text/x-python",
   "name": "python",
   "nbconvert_exporter": "python",
   "pygments_lexer": "ipython3",
   "version": "3.6.5"
  }
 },
 "nbformat": 4,
 "nbformat_minor": 2
}
