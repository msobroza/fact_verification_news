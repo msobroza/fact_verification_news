{
 "cells": [
  {
   "cell_type": "code",
   "execution_count": 9,
   "metadata": {},
   "outputs": [],
   "source": [
    "import json\n",
    "\n",
    "def load_dataset_json(path, instance_num=1e12):\n",
    "    \"\"\"\n",
    "    Args\n",
    "    path: the location of the data set tp read\n",
    "    instance_num: how many instances to load. Useful for debugging\n",
    "\n",
    "    Returns\n",
    "    a list of instances\n",
    "    \"\"\"\n",
    "    data = []\n",
    "    with open(path, 'r') as openfile:\n",
    "        for iline, line in enumerate(openfile.readlines()):\n",
    "            data.append(json.loads(line))\n",
    "            if iline+1 >= instance_num:\n",
    "                break\n",
    "    return data"
   ]
  },
  {
   "cell_type": "code",
   "execution_count": 19,
   "metadata": {},
   "outputs": [],
   "source": [
    "from pathlib import Path\n",
    "from tqdm import tqdm_notebook\n",
    "\n",
    "def get_all_wiki(path='wiki-pages/wiki-pages'):\n",
    "    data = []\n",
    "    for filename in tqdm_notebook(Path(path).rglob('*.jsonl'), total=109):\n",
    "        data.extend(load_dataset_json(filename))\n",
    "    data_result = {d['id']:d for d in data}\n",
    "    return data_result"
   ]
  },
  {
   "cell_type": "code",
   "execution_count": 55,
   "metadata": {},
   "outputs": [],
   "source": [
    "def match_with_wiki(samples_claim, samples_evidence):\n",
    "    docs = list()\n",
    "    count_error = 0\n",
    "    for c in tqdm_notebook(samples_claim):\n",
    "        if c['verifiable'] != 'VERIFIABLE':\n",
    "            continue\n",
    "        text_evidence = list()\n",
    "        for e in c['evidence'][0]:\n",
    "            id_e = e[2]\n",
    "            if id_e in samples_evidence.keys():\n",
    "                partial_text = samples_evidence[id_e]['lines'].split('\\n')[e[-1]]\n",
    "                text = '\\t'.join(partial_text.split('\\t')[1:])\n",
    "                text = text.replace('\\t',' ')\n",
    "                text_evidence.append(text)\n",
    "            else:\n",
    "                count_error += 1\n",
    "        docs.append((c['claim'], '\\n'.join(text_evidence), c['label']))\n",
    "    print('number of errors')\n",
    "    print(count_error)\n",
    "    return docs"
   ]
  },
  {
   "cell_type": "code",
   "execution_count": 63,
   "metadata": {},
   "outputs": [
    {
     "name": "stdout",
     "output_type": "stream",
     "text": [
      "{'id': 75397, 'verifiable': 'VERIFIABLE', 'label': 'SUPPORTS', 'claim': 'Nikolaj Coster-Waldau worked with the Fox Broadcasting Company.', 'evidence': [[[92206, 104971, 'Nikolaj_Coster-Waldau', 7], [92206, 104971, 'Fox_Broadcasting_Company', 0]]]}\n",
      "{'id': 150448, 'verifiable': 'VERIFIABLE', 'label': 'SUPPORTS', 'claim': 'Roman Atwood is a content creator.', 'evidence': [[[174271, 187498, 'Roman_Atwood', 1]], [[174271, 187499, 'Roman_Atwood', 3]]]}\n"
     ]
    }
   ],
   "source": [
    "train_path = './data/fever-data/train.jsonl'\n",
    "train_data = load_dataset_json(path=train_path)\n",
    "dev_path = './data/fever-data/dev.jsonl'\n",
    "dev_data = load_dataset_json(path=dev_path)\n",
    "test_path = './data/fever-data/test.jsonl'\n",
    "test_data = load_dataset_json(path=test_path)\n",
    "\n",
    "for sample in train_data[:2]:\n",
    "    print(sample)"
   ]
  },
  {
   "cell_type": "code",
   "execution_count": 20,
   "metadata": {},
   "outputs": [
    {
     "data": {
      "application/vnd.jupyter.widget-view+json": {
       "model_id": "bc8bc3922b4e4d1989dd6b547e16da24",
       "version_major": 2,
       "version_minor": 0
      },
      "text/plain": [
       "HBox(children=(IntProgress(value=0, max=109), HTML(value='')))"
      ]
     },
     "metadata": {},
     "output_type": "display_data"
    },
    {
     "name": "stdout",
     "output_type": "stream",
     "text": [
      "\n"
     ]
    }
   ],
   "source": [
    "data_wiki = get_all_wiki()"
   ]
  },
  {
   "cell_type": "code",
   "execution_count": 21,
   "metadata": {},
   "outputs": [
    {
     "data": {
      "text/plain": [
       "'Beauly_railway_station'"
      ]
     },
     "execution_count": 21,
     "metadata": {},
     "output_type": "execute_result"
    }
   ],
   "source": [
    "list(data_wiki.keys())[0]"
   ]
  },
  {
   "cell_type": "code",
   "execution_count": 27,
   "metadata": {},
   "outputs": [
    {
     "data": {
      "text/plain": [
       "{'id': 'Beauly_railway_station',\n",
       " 'text': 'Beauly railway station serves the village of Beauly in the Highland council area of Scotland . It is the first stop after leaving Inverness station , heading north on the Kyle of Lochalsh Line and the Far North Line . ',\n",
       " 'lines': '0\\tBeauly railway station serves the village of Beauly in the Highland council area of Scotland .\\tBeauly\\tBeauly\\tHighland\\tHighland (council area)\\tcouncil area\\tCouncil areas of Scotland\\tScotland\\tScotland\\n1\\tIt is the first stop after leaving Inverness station , heading north on the Kyle of Lochalsh Line and the Far North Line .\\tInverness station\\tInverness railway station\\tKyle of Lochalsh Line\\tKyle of Lochalsh Line\\tFar North Line\\tFar North Line\\n2\\t'}"
      ]
     },
     "execution_count": 27,
     "metadata": {},
     "output_type": "execute_result"
    }
   ],
   "source": [
    "data_wiki['Beauly_railway_station']"
   ]
  },
  {
   "cell_type": "code",
   "execution_count": 59,
   "metadata": {},
   "outputs": [
    {
     "data": {
      "application/vnd.jupyter.widget-view+json": {
       "model_id": "c00e4c4114f44faa98ed0e587bf39fe2",
       "version_major": 2,
       "version_minor": 0
      },
      "text/plain": [
       "HBox(children=(IntProgress(value=0, max=145449), HTML(value='')))"
      ]
     },
     "metadata": {},
     "output_type": "display_data"
    },
    {
     "name": "stdout",
     "output_type": "stream",
     "text": [
      "\n",
      "number of errors\n",
      "975\n"
     ]
    }
   ],
   "source": [
    "train_final_dataset = match_with_wiki(train_data, data_wiki)"
   ]
  },
  {
   "cell_type": "code",
   "execution_count": 66,
   "metadata": {},
   "outputs": [
    {
     "data": {
      "application/vnd.jupyter.widget-view+json": {
       "model_id": "8731a6131f5442cd9e7c095149ae37db",
       "version_major": 2,
       "version_minor": 0
      },
      "text/plain": [
       "HBox(children=(IntProgress(value=0, max=9999), HTML(value='')))"
      ]
     },
     "metadata": {},
     "output_type": "display_data"
    },
    {
     "name": "stdout",
     "output_type": "stream",
     "text": [
      "\n",
      "number of errors\n",
      "72\n"
     ]
    }
   ],
   "source": [
    "dev_final_dataset = match_with_wiki(dev_data, data_wiki)"
   ]
  },
  {
   "cell_type": "code",
   "execution_count": 65,
   "metadata": {},
   "outputs": [
    {
     "data": {
      "application/vnd.jupyter.widget-view+json": {
       "model_id": "65e451102c4548b084d64ff22879bb1c",
       "version_major": 2,
       "version_minor": 0
      },
      "text/plain": [
       "HBox(children=(IntProgress(value=0, max=9999), HTML(value='')))"
      ]
     },
     "metadata": {},
     "output_type": "display_data"
    },
    {
     "name": "stdout",
     "output_type": "stream",
     "text": [
      "\n",
      "number of errors\n",
      "65\n"
     ]
    }
   ],
   "source": [
    "test_final_dataset = match_with_wiki(test_data, data_wiki)"
   ]
  },
  {
   "cell_type": "code",
   "execution_count": 67,
   "metadata": {},
   "outputs": [
    {
     "data": {
      "text/plain": [
       "('Ukrainian Soviet Socialist Republic was a founding participant of the UN.',\n",
       " 'The Ukrainian SSR was a founding member of the United Nations , although it was legally represented by the All-Union state in its affairs with countries outside of the Soviet Union . Soviet Union Soviet Union Ukrainian Ukrainian language Soviet Republics of the Soviet Union United Nations United Nations founding member Member states of the United Nations affairs with countries outside of the Soviet Union Foreign relations of the Soviet Union',\n",
       " 'SUPPORTS')"
      ]
     },
     "execution_count": 67,
     "metadata": {},
     "output_type": "execute_result"
    }
   ],
   "source": [
    "test_final_dataset[0]"
   ]
  },
  {
   "cell_type": "code",
   "execution_count": 68,
   "metadata": {},
   "outputs": [],
   "source": [
    "import pandas as pd\n",
    "\n",
    "df_train = pd.DataFrame(train_final_dataset, columns=['claim','evidence','label'])"
   ]
  },
  {
   "cell_type": "code",
   "execution_count": 70,
   "metadata": {},
   "outputs": [],
   "source": [
    "df_dev = pd.DataFrame(dev_final_dataset, columns=['claim','evidence','label'])"
   ]
  },
  {
   "cell_type": "code",
   "execution_count": 71,
   "metadata": {},
   "outputs": [],
   "source": [
    "df_test = pd.DataFrame(test_final_dataset, columns=['claim','evidence','label'])"
   ]
  },
  {
   "cell_type": "code",
   "execution_count": 72,
   "metadata": {},
   "outputs": [],
   "source": [
    "df_train.to_pickle('./preprocessed/fever_train.pkl')"
   ]
  },
  {
   "cell_type": "code",
   "execution_count": 73,
   "metadata": {},
   "outputs": [],
   "source": [
    "df_dev.to_pickle('./preprocessed/fever_dev.pkl')"
   ]
  },
  {
   "cell_type": "code",
   "execution_count": 74,
   "metadata": {},
   "outputs": [],
   "source": [
    "df_test.to_pickle('./preprocessed/fever_test.pkl')"
   ]
  },
  {
   "cell_type": "code",
   "execution_count": null,
   "metadata": {},
   "outputs": [],
   "source": []
  }
 ],
 "metadata": {
  "kernelspec": {
   "display_name": "Python 3",
   "language": "python",
   "name": "python3"
  },
  "language_info": {
   "codemirror_mode": {
    "name": "ipython",
    "version": 3
   },
   "file_extension": ".py",
   "mimetype": "text/x-python",
   "name": "python",
   "nbconvert_exporter": "python",
   "pygments_lexer": "ipython3",
   "version": "3.6.5"
  }
 },
 "nbformat": 4,
 "nbformat_minor": 2
}
