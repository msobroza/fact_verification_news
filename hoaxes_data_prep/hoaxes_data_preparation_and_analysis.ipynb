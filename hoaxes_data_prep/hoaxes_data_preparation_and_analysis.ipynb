{
 "cells": [
  {
   "cell_type": "markdown",
   "metadata": {},
   "source": [
    "<img src=\"https://pbs.twimg.com/profile_images/1126981606533672960/H4NiVXXg.jpg\" alt=\"drawing\" width=\"200\"/>\n",
    "\n",
    "<center>\n",
    "<h2>\n",
    " LeMonde dataset Analysis and Preparation\n",
    "<h2/>\n",
    "<center/>"
   ]
  },
  {
   "cell_type": "markdown",
   "metadata": {},
   "source": [
    "This notebook has as its purpose to analyze and prepare the dataset hoaxes _(LeMonde)_ ."
   ]
  },
  {
   "cell_type": "code",
   "execution_count": 2,
   "metadata": {},
   "outputs": [],
   "source": [
    "import sqlite3\n",
    "import pandas as pd\n",
    "import os"
   ]
  },
  {
   "cell_type": "code",
   "execution_count": 34,
   "metadata": {},
   "outputs": [],
   "source": [
    "def data_preparation(database,table_name):\n",
    "    \"\"\"\n",
    "    Function that takes the sqlite file, puts\n",
    "    them into the right format and then saves the data.\n",
    "    \n",
    "    Args:\n",
    "        database (str): the name of the database.\n",
    "        table_name(str): the name of the table to load.\n",
    "\n",
    "    Returns:\n",
    "        bool: The return value. True for success, False otherwise.\n",
    "    \"\"\"\n",
    "    try:\n",
    "        if os.path.isdir('preprocessed_data_{}'.format(table_name)):\n",
    "            pass\n",
    "        else:\n",
    "            os.mkdir('preprocessed_data_{}'.format(table_name))\n",
    "        \n",
    "        # Create your connection.\n",
    "        cnx = sqlite3.connect(database)\n",
    "\n",
    "        df = pd.read_sql_query(\"SELECT * FROM {}\".format(table_name), cnx)\n",
    "        # It is important to notice that we have recategorized\n",
    "        # the labels to match the FEVER dataset\n",
    "        df = df.replace('FAUX','REFUTES')\n",
    "        df = df.replace('TROMPEUR','REFUTES')\n",
    "        df = df.replace('DOUTEUX','REFUTES')\n",
    "        df = df.replace('CONTESTABLE','REFUTES')\n",
    "        df.to_pickle('./preprocessed_data_{}/{}.pkl'.format(table_name,table_name))\n",
    "        return True\n",
    "    except:\n",
    "        return False"
   ]
  },
  {
   "cell_type": "code",
   "execution_count": 35,
   "metadata": {},
   "outputs": [
    {
     "data": {
      "text/plain": [
       "True"
      ]
     },
     "execution_count": 35,
     "metadata": {},
     "output_type": "execute_result"
    }
   ],
   "source": [
    "data_preparation(database='lemonde-decodex-2019-11-06.sqlite',table_name='hoaxes')"
   ]
  },
  {
   "cell_type": "code",
   "execution_count": 3,
   "metadata": {},
   "outputs": [],
   "source": [
    "hoaxes = pd.read_pickle('preprocessed_data/hoaxes.pkl')"
   ]
  },
  {
   "cell_type": "code",
   "execution_count": 4,
   "metadata": {},
   "outputs": [
    {
     "data": {
      "text/plain": [
       "REFUTES    359\n",
       "Name: label, dtype: int64"
      ]
     },
     "execution_count": 4,
     "metadata": {},
     "output_type": "execute_result"
    }
   ],
   "source": [
    "hoaxes.label.value_counts()"
   ]
  },
  {
   "cell_type": "code",
   "execution_count": 13,
   "metadata": {},
   "outputs": [
    {
     "data": {
      "text/html": [
       "<div>\n",
       "<style scoped>\n",
       "    .dataframe tbody tr th:only-of-type {\n",
       "        vertical-align: middle;\n",
       "    }\n",
       "\n",
       "    .dataframe tbody tr th {\n",
       "        vertical-align: top;\n",
       "    }\n",
       "\n",
       "    .dataframe thead th {\n",
       "        text-align: right;\n",
       "    }\n",
       "</style>\n",
       "<table border=\"1\" class=\"dataframe\">\n",
       "  <thead>\n",
       "    <tr style=\"text-align: right;\">\n",
       "      <th></th>\n",
       "      <th>question</th>\n",
       "      <th>explanation</th>\n",
       "      <th>article</th>\n",
       "    </tr>\n",
       "  </thead>\n",
       "  <tbody>\n",
       "    <tr>\n",
       "      <td>0</td>\n",
       "      <td>Ce prêtre a-t-il été agressé à Avignon en févr...</td>\n",
       "      <td>La rumeur fait référence à une vraie agression...</td>\n",
       "      <td>https://www.lemonde.fr/les-decodeurs/article/2...</td>\n",
       "    </tr>\n",
       "    <tr>\n",
       "      <td>1</td>\n",
       "      <td>Emmanuel Macron a-t-il déclaré vouloir faire p...</td>\n",
       "      <td>Il s'agit d'un article du site parodique BuzzB...</td>\n",
       "      <td>https://crosscheck.firstdraftnews.com/checked-...</td>\n",
       "    </tr>\n",
       "    <tr>\n",
       "      <td>2</td>\n",
       "      <td>Ce pompier a-t-il eu « l’œil crevé par une rac...</td>\n",
       "      <td>Cette rumeur qui a circulé en février 2017 est...</td>\n",
       "      <td>https://www.lemonde.fr/les-decodeurs/article/2...</td>\n",
       "    </tr>\n",
       "    <tr>\n",
       "      <td>3</td>\n",
       "      <td>Un élu PS a-t-il été relaxé après un excès de ...</td>\n",
       "      <td>Contrairement à ce que laisse entendre la rume...</td>\n",
       "      <td>https://www.lemonde.fr/les-decodeurs/article/2...</td>\n",
       "    </tr>\n",
       "    <tr>\n",
       "      <td>4</td>\n",
       "      <td>Les médias ont-ils caché l'affaire des « frais...</td>\n",
       "      <td>Contrairement à ce que les rumeurs qui circule...</td>\n",
       "      <td>https://www.lemonde.fr/les-decodeurs/article/2...</td>\n",
       "    </tr>\n",
       "    <tr>\n",
       "      <td>...</td>\n",
       "      <td>...</td>\n",
       "      <td>...</td>\n",
       "      <td>...</td>\n",
       "    </tr>\n",
       "    <tr>\n",
       "      <td>354</td>\n",
       "      <td>L'entreprise Bonduelle a-t-elle mis des « des ...</td>\n",
       "      <td>Une rumeur affirme que l’entreprise commercial...</td>\n",
       "      <td>https://www.lemonde.fr/les-decodeurs/article/2...</td>\n",
       "    </tr>\n",
       "    <tr>\n",
       "      <td>355</td>\n",
       "      <td>Cette publication Facebook sur les \"honoraires...</td>\n",
       "      <td>Dans un message très partagé, des internautes ...</td>\n",
       "      <td>https://www.lemonde.fr/les-decodeurs/article/2...</td>\n",
       "    </tr>\n",
       "    <tr>\n",
       "      <td>356</td>\n",
       "      <td>Agnes Buzyn a-t-elle dit sur Lubrizol : « Les ...</td>\n",
       "      <td>La ministre de la santé n'a pas tout à fait di...</td>\n",
       "      <td>https://www.lemonde.fr/les-decodeurs/article/2...</td>\n",
       "    </tr>\n",
       "    <tr>\n",
       "      <td>357</td>\n",
       "      <td>Agnes Buzyn a-t-elle dit sur Lubrizol : « Les ...</td>\n",
       "      <td>La ministre de la santé n'a pas tout à fait di...</td>\n",
       "      <td>https://www.lemonde.fr/les-decodeurs/article/2...</td>\n",
       "    </tr>\n",
       "    <tr>\n",
       "      <td>358</td>\n",
       "      <td>Yassine Belattar a-t-il posé avec cette pancar...</td>\n",
       "      <td>C'est un photomontage</td>\n",
       "      <td>https://www.lemonde.fr/les-decodeurs/article/2...</td>\n",
       "    </tr>\n",
       "  </tbody>\n",
       "</table>\n",
       "<p>359 rows × 3 columns</p>\n",
       "</div>"
      ],
      "text/plain": [
       "                                              question  \\\n",
       "0    Ce prêtre a-t-il été agressé à Avignon en févr...   \n",
       "1    Emmanuel Macron a-t-il déclaré vouloir faire p...   \n",
       "2    Ce pompier a-t-il eu « l’œil crevé par une rac...   \n",
       "3    Un élu PS a-t-il été relaxé après un excès de ...   \n",
       "4    Les médias ont-ils caché l'affaire des « frais...   \n",
       "..                                                 ...   \n",
       "354  L'entreprise Bonduelle a-t-elle mis des « des ...   \n",
       "355  Cette publication Facebook sur les \"honoraires...   \n",
       "356  Agnes Buzyn a-t-elle dit sur Lubrizol : « Les ...   \n",
       "357  Agnes Buzyn a-t-elle dit sur Lubrizol : « Les ...   \n",
       "358  Yassine Belattar a-t-il posé avec cette pancar...   \n",
       "\n",
       "                                           explanation  \\\n",
       "0    La rumeur fait référence à une vraie agression...   \n",
       "1    Il s'agit d'un article du site parodique BuzzB...   \n",
       "2    Cette rumeur qui a circulé en février 2017 est...   \n",
       "3    Contrairement à ce que laisse entendre la rume...   \n",
       "4    Contrairement à ce que les rumeurs qui circule...   \n",
       "..                                                 ...   \n",
       "354  Une rumeur affirme que l’entreprise commercial...   \n",
       "355  Dans un message très partagé, des internautes ...   \n",
       "356  La ministre de la santé n'a pas tout à fait di...   \n",
       "357  La ministre de la santé n'a pas tout à fait di...   \n",
       "358                              C'est un photomontage   \n",
       "\n",
       "                                               article  \n",
       "0    https://www.lemonde.fr/les-decodeurs/article/2...  \n",
       "1    https://crosscheck.firstdraftnews.com/checked-...  \n",
       "2    https://www.lemonde.fr/les-decodeurs/article/2...  \n",
       "3    https://www.lemonde.fr/les-decodeurs/article/2...  \n",
       "4    https://www.lemonde.fr/les-decodeurs/article/2...  \n",
       "..                                                 ...  \n",
       "354  https://www.lemonde.fr/les-decodeurs/article/2...  \n",
       "355  https://www.lemonde.fr/les-decodeurs/article/2...  \n",
       "356  https://www.lemonde.fr/les-decodeurs/article/2...  \n",
       "357  https://www.lemonde.fr/les-decodeurs/article/2...  \n",
       "358  https://www.lemonde.fr/les-decodeurs/article/2...  \n",
       "\n",
       "[359 rows x 3 columns]"
      ]
     },
     "execution_count": 13,
     "metadata": {},
     "output_type": "execute_result"
    }
   ],
   "source": [
    "hoaxes[['question','explanation','article']]"
   ]
  },
  {
   "cell_type": "code",
   "execution_count": null,
   "metadata": {},
   "outputs": [],
   "source": []
  }
 ],
 "metadata": {
  "kernelspec": {
   "display_name": "Python 3",
   "language": "python",
   "name": "python3"
  },
  "language_info": {
   "codemirror_mode": {
    "name": "ipython",
    "version": 3
   },
   "file_extension": ".py",
   "mimetype": "text/x-python",
   "name": "python",
   "nbconvert_exporter": "python",
   "pygments_lexer": "ipython3",
   "version": "3.6.5"
  }
 },
 "nbformat": 4,
 "nbformat_minor": 2
}
