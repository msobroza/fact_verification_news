{
 "cells": [
  {
   "cell_type": "markdown",
   "metadata": {},
   "source": [
    "This notebook has as its purpose to analyze and prepare the dataset hoaxes."
   ]
  },
  {
   "cell_type": "code",
   "execution_count": 23,
   "metadata": {},
   "outputs": [],
   "source": [
    "import sqlite3\n",
    "import pandas as pd\n",
    "import os"
   ]
  },
  {
   "cell_type": "code",
   "execution_count": 34,
   "metadata": {},
   "outputs": [],
   "source": [
    "def data_preparation(database,table_name):\n",
    "    \"\"\"\n",
    "    Function that takes the sqlite file, puts\n",
    "    them into the right format and then saves the data.\n",
    "    \n",
    "    Args:\n",
    "        database (str): the name of the database.\n",
    "        table_name(str): the name of the table to load.\n",
    "\n",
    "    Returns:\n",
    "        bool: The return value. True for success, False otherwise.\n",
    "    \"\"\"\n",
    "    try:\n",
    "        if os.path.isdir('preprocessed_data_{}'.format(table_name)):\n",
    "            pass\n",
    "        else:\n",
    "            os.mkdir('preprocessed_data_{}'.format(table_name))\n",
    "        \n",
    "        # Create your connection.\n",
    "        cnx = sqlite3.connect(database)\n",
    "\n",
    "        df = pd.read_sql_query(\"SELECT * FROM {}\".format(table_name), cnx)\n",
    "        # It is important to notice that we have recategorized\n",
    "        # the labels to match the FEVER dataset\n",
    "        df = df.replace('FAUX','REFUTES')\n",
    "        df = df.replace('TROMPEUR','REFUTES')\n",
    "        df = df.replace('DOUTEUX','REFUTES')\n",
    "        df = df.replace('CONTESTABLE','REFUTES')\n",
    "        df.to_pickle('./preprocessed_data_{}/{}.pkl'.format(table_name,table_name))\n",
    "        return True\n",
    "    except:\n",
    "        return False"
   ]
  },
  {
   "cell_type": "code",
   "execution_count": 35,
   "metadata": {},
   "outputs": [
    {
     "data": {
      "text/plain": [
       "True"
      ]
     },
     "execution_count": 35,
     "metadata": {},
     "output_type": "execute_result"
    }
   ],
   "source": [
    "data_preparation(database='lemonde-decodex-2019-11-06.sqlite',table_name='hoaxes')"
   ]
  }
 ],
 "metadata": {
  "kernelspec": {
   "display_name": "Python 3",
   "language": "python",
   "name": "python3"
  },
  "language_info": {
   "codemirror_mode": {
    "name": "ipython",
    "version": 3
   },
   "file_extension": ".py",
   "mimetype": "text/x-python",
   "name": "python",
   "nbconvert_exporter": "python",
   "pygments_lexer": "ipython3",
   "version": "3.6.5"
  }
 },
 "nbformat": 4,
 "nbformat_minor": 2
}
